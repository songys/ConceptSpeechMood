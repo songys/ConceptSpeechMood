{
  "nbformat": 4,
  "nbformat_minor": 0,
  "metadata": {
    "colab": {
      "provenance": []
    },
    "kernelspec": {
      "name": "python3",
      "display_name": "Python 3"
    },
    "language_info": {
      "name": "python"
    }
  },
  "cells": [
    {
      "cell_type": "markdown",
      "source": [
        "#코렙에 있는 데이터의 경로 입력"
      ],
      "metadata": {
        "id": "Pg98_dl37Cvu"
      }
    },
    {
      "cell_type": "code",
      "metadata": {
        "id": "FU4_g47kWdub"
      },
      "source": [
        "data = open('/content/drive/MyDrive/Colab Notebooks/mess_pos/messenger_pos.txt', 'r', encoding='utf-8')\n",
        "lines = data.readlines()"
      ],
      "execution_count": null,
      "outputs": []
    },
    {
      "cell_type": "markdown",
      "source": [
        "# PIP로 konlpy 설치"
      ],
      "metadata": {
        "id": "41tzZBrq7SAB"
      }
    },
    {
      "cell_type": "code",
      "metadata": {
        "id": "E38M5rRpWdye",
        "colab": {
          "base_uri": "https://localhost:8080/"
        },
        "outputId": "742e3bcc-6815-422f-d16c-23676e0e617d"
      },
      "source": [
        "!pip install konlpy"
      ],
      "execution_count": null,
      "outputs": [
        {
          "output_type": "stream",
          "name": "stdout",
          "text": [
            "Looking in indexes: https://pypi.org/simple, https://us-python.pkg.dev/colab-wheels/public/simple/\n",
            "Collecting konlpy\n",
            "  Downloading konlpy-0.6.0-py2.py3-none-any.whl (19.4 MB)\n",
            "\u001b[2K     \u001b[90m━━━━━━━━━━━━━━━━━━━━━━━━━━━━━━━━━━━━━━━━\u001b[0m \u001b[32m19.4/19.4 MB\u001b[0m \u001b[31m43.2 MB/s\u001b[0m eta \u001b[36m0:00:00\u001b[0m\n",
            "\u001b[?25hRequirement already satisfied: lxml>=4.1.0 in /usr/local/lib/python3.9/dist-packages (from konlpy) (4.9.2)\n",
            "Collecting JPype1>=0.7.0\n",
            "  Downloading JPype1-1.4.1-cp39-cp39-manylinux_2_12_x86_64.manylinux2010_x86_64.whl (465 kB)\n",
            "\u001b[2K     \u001b[90m━━━━━━━━━━━━━━━━━━━━━━━━━━━━━━━━━━━━━━\u001b[0m \u001b[32m465.3/465.3 KB\u001b[0m \u001b[31m34.1 MB/s\u001b[0m eta \u001b[36m0:00:00\u001b[0m\n",
            "\u001b[?25hRequirement already satisfied: numpy>=1.6 in /usr/local/lib/python3.9/dist-packages (from konlpy) (1.22.4)\n",
            "Requirement already satisfied: packaging in /usr/local/lib/python3.9/dist-packages (from JPype1>=0.7.0->konlpy) (23.0)\n",
            "Installing collected packages: JPype1, konlpy\n",
            "Successfully installed JPype1-1.4.1 konlpy-0.6.0\n"
          ]
        }
      ]
    },
    {
      "cell_type": "markdown",
      "source": [
        "#koNLPy 태그 세트 중에서 okt 클래스 임포트"
      ],
      "metadata": {
        "id": "OG4_xLmQ7Zvu"
      }
    },
    {
      "cell_type": "code",
      "metadata": {
        "id": "pDHB_3LVWd2R"
      },
      "source": [
        "from konlpy.tag import Okt"
      ],
      "execution_count": null,
      "outputs": []
    },
    {
      "cell_type": "markdown",
      "source": [
        "#입력 데이터의 총 문장 길이 확인"
      ],
      "metadata": {
        "id": "jKH5trs77q72"
      }
    },
    {
      "cell_type": "code",
      "metadata": {
        "id": "KzGkvL8yWd58",
        "colab": {
          "base_uri": "https://localhost:8080/"
        },
        "outputId": "e202ded5-50e7-4a40-cf08-2318f49c58cf"
      },
      "source": [
        "len(lines)"
      ],
      "execution_count": null,
      "outputs": [
        {
          "output_type": "execute_result",
          "data": {
            "text/plain": [
              "79639"
            ]
          },
          "metadata": {},
          "execution_count": 12
        }
      ]
    },
    {
      "cell_type": "markdown",
      "source": [
        "# 5~10행 사이에 있는 문장 확인"
      ],
      "metadata": {
        "id": "y69ocbk67uP2"
      }
    },
    {
      "cell_type": "code",
      "metadata": {
        "id": "qbDnFPSEWd9t",
        "colab": {
          "base_uri": "https://localhost:8080/"
        },
        "outputId": "e61b3b37-9b1b-476c-ed98-7d520efb89e6"
      },
      "source": [
        "from pprint import pprint\n",
        "pprint(lines[5:10])"
      ],
      "execution_count": null,
      "outputs": [
        {
          "output_type": "stream",
          "name": "stdout",
          "text": [
            "['MDRW1900003747.1.1.5\\tname1이는 뭐 해?\\t\\n',\n",
            " 'MDRW1900003747.1.1.6\\t오늘 일정 어떻게 돼?\\t\\n',\n",
            " 'MDRW1900003747.1.1.7\\t누구 만나니?\\t\\n',\n",
            " 'MDRW1900003747.1.1.8\\t나 오늘 동생 만나!\\t\\n',\n",
            " 'MDRW1900003747.1.1.9\\t저녁 먹으면서 술 마시려고!\\t\\n']\n"
          ]
        }
      ]
    },
    {
      "cell_type": "code",
      "metadata": {
        "id": "MnJi6mnTWeB4"
      },
      "source": [
        "okt = Okt()\n"
      ],
      "execution_count": null,
      "outputs": []
    },
    {
      "cell_type": "markdown",
      "source": [
        "# norm=True, stem=True 로 노말라이즈와 스태밍을 모두 사용"
      ],
      "metadata": {
        "id": "XkUHlxqH75fW"
      }
    },
    {
      "cell_type": "code",
      "source": [
        "okt.pos('전라남도에는 해남군이 있었다.', norm=True, stem=True)"
      ],
      "metadata": {
        "colab": {
          "base_uri": "https://localhost:8080/"
        },
        "id": "PSYopruZQYxe",
        "outputId": "8656de90-349e-40fb-f9b1-5e53553f89ef"
      },
      "execution_count": null,
      "outputs": [
        {
          "output_type": "execute_result",
          "data": {
            "text/plain": [
              "[('전라남도', 'Noun'),\n",
              " ('에는', 'Josa'),\n",
              " ('해남군', 'Noun'),\n",
              " ('이', 'Josa'),\n",
              " ('있다', 'Adjective'),\n",
              " ('.', 'Punctuation')]"
            ]
          },
          "metadata": {},
          "execution_count": 10
        }
      ]
    },
    {
      "cell_type": "code",
      "metadata": {
        "id": "P_2yxRahSnge"
      },
      "source": [
        "#예외는 프리트하고 나머지만 처리\n",
        "result = []\n",
        "for line in lines:\n",
        "    try:\n",
        "        res = okt.pos(line, norm=True, stem=True)\n",
        "        result.append([x[0]+\"/\"+x[1] for x in res])\n",
        "    except:\n",
        "        print(line)"
      ],
      "execution_count": null,
      "outputs": []
    },
    {
      "cell_type": "code",
      "metadata": {
        "colab": {
          "base_uri": "https://localhost:8080/"
        },
        "id": "O1Q7mRyxTUR8",
        "outputId": "0bf7dad8-7ce5-4eb9-a795-b3c16a30964d"
      },
      "source": [
        "result[1]"
      ],
      "execution_count": null,
      "outputs": [
        {
          "output_type": "execute_result",
          "data": {
            "text/plain": [
              "['MDRW/Alpha',\n",
              " '1900003747.1/Number',\n",
              " './Punctuation',\n",
              " '1.1/Number',\n",
              " '\\t/Foreign',\n",
              " '안녕/Noun',\n",
              " '?/Punctuation',\n",
              " 'name/Alpha',\n",
              " '1/Number',\n",
              " '!/Punctuation',\n",
              " '\\t\\n/Foreign']"
            ]
          },
          "metadata": {},
          "execution_count": 16
        }
      ]
    },
    {
      "cell_type": "code",
      "metadata": {
        "id": "uXzXI4GDVedq"
      },
      "source": [
        "import pandas as pd"
      ],
      "execution_count": null,
      "outputs": []
    },
    {
      "cell_type": "markdown",
      "source": [
        "# 출력 파일을 원하는 위치에 저장"
      ],
      "metadata": {
        "id": "zzTRW_nl8FUX"
      }
    },
    {
      "cell_type": "code",
      "metadata": {
        "id": "ymr9KyB1VUWO"
      },
      "source": [
        "df = pd.DataFrame(result)\n",
        "df.to_csv('drive/MyDrive/Colab Notebooks/mess_pos/messengser_okt.csv', encoding=\"utf-8\")"
      ],
      "execution_count": null,
      "outputs": []
    },
    {
      "cell_type": "code",
      "source": [],
      "metadata": {
        "id": "vMAfwQD1fd6C"
      },
      "execution_count": null,
      "outputs": []
    }
  ]
}