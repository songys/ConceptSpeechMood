{
  "nbformat": 4,
  "nbformat_minor": 0,
  "metadata": {
    "colab": {
      "provenance": []
    },
    "kernelspec": {
      "name": "python3",
      "display_name": "Python 3"
    },
    "language_info": {
      "name": "python"
    }
  },
  "cells": [
    {
      "cell_type": "code",
      "source": [
        "import pandas as pd\n",
        "import json\n",
        "\n",
        "# CSV 파일을 읽기\n",
        "csv_file = '/content/drive/MyDrive/Colab Notebooks/MSA220425.csv'\n",
        "data = pd.read_csv(csv_file)\n",
        "\n",
        "# JSONL 파일을 쓰기\n",
        "jsonl_file = '/content/drive/MyDrive/Colab Notebooks/MSA220425.jsonl'\n",
        "\n",
        "with open(jsonl_file, 'w', encoding='utf-8') as file:\n",
        "    for index, row in data.iterrows():\n",
        "        file_id = row['file_id']\n",
        "        id = row['id']\n",
        "        Nomalize_form_from_nxsc = row['Nomalize_form_from_nxsc']\n",
        "        SpeechAct = row['SpeechAct']\n",
        "        concept_set = row['Concept']\n",
        "        json_line = json.dumps({\"file_id\": file_id, \"id\": id, \"Nomalize_form_from_nxsc\": Nomalize_form_from_nxsc, \"SpeechAct\": SpeechAct, \"concept_set\": concept_set}, ensure_ascii=False)\n",
        "        file.write(json_line + '\\n')\n"
      ],
      "metadata": {
        "colab": {
          "base_uri": "https://localhost:8080/"
        },
        "id": "hvs_db_OGozg",
        "outputId": "246462c3-ab53-40f7-ad48-9e7e86badbd0"
      },
      "execution_count": null,
      "outputs": [
        {
          "output_type": "stream",
          "name": "stderr",
          "text": [
            "<ipython-input-1-9e7d652764fc>:6: DtypeWarning: Columns (0,2,3,4) have mixed types. Specify dtype option on import or set low_memory=False.\n",
            "  data = pd.read_csv(csv_file)\n"
          ]
        }
      ]
    }
  ]
}