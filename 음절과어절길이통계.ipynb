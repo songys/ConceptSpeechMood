{
  "nbformat": 4,
  "nbformat_minor": 0,
  "metadata": {
    "colab": {
      "provenance": []
    },
    "kernelspec": {
      "name": "ir",
      "display_name": "R"
    },
    "language_info": {
      "name": "R"
    }
  },
  "cells": [
    {
      "cell_type": "markdown",
      "source": [
        "아래 코드는 R에서 작성되었습니다.      \n",
        "런타임 유형을 변경해서 실행하여야 합니다.\n",
        "\n",
        "https://colab.research.google.com/notebook#create=true&language=r"
      ],
      "metadata": {
        "id": "0TTaY2RYu6-S"
      }
    },
    {
      "cell_type": "code",
      "source": [
        "package_version(R.version)"
      ],
      "metadata": {
        "colab": {
          "base_uri": "https://localhost:8080/",
          "height": 36
        },
        "id": "_AjB0xO4nNE1",
        "outputId": "fe4ca848-3673-4ff6-9468-759f5506d276"
      },
      "execution_count": 12,
      "outputs": [
        {
          "output_type": "display_data",
          "data": {
            "text/plain": [
              "[1] ‘4.3.0’"
            ]
          },
          "metadata": {}
        }
      ]
    },
    {
      "cell_type": "code",
      "source": [
        "#어절 길이 비교\n",
        "system(\"gdown --id 1ECoINUqQCjGKFWuVy3_CVakrymO278VM\")\n",
        "data = read.csv(\"Generated_word_length0522.csv\")\n"
      ],
      "metadata": {
        "id": "II9KikfabE4s"
      },
      "execution_count": 24,
      "outputs": []
    },
    {
      "cell_type": "code",
      "source": [
        "head(data)"
      ],
      "metadata": {
        "colab": {
          "base_uri": "https://localhost:8080/",
          "height": 286
        },
        "id": "Ircw7lsRbE9K",
        "outputId": "3a337671-6f00-4e53-d64f-b1505a2263f6"
      },
      "execution_count": 10,
      "outputs": [
        {
          "output_type": "display_data",
          "data": {
            "text/html": [
              "<table class=\"dataframe\">\n",
              "<caption>A data.frame: 6 × 2</caption>\n",
              "<thead>\n",
              "\t<tr><th></th><th scope=col>Source_word_length</th><th scope=col>Generated_word_length</th></tr>\n",
              "\t<tr><th></th><th scope=col>&lt;int&gt;</th><th scope=col>&lt;int&gt;</th></tr>\n",
              "</thead>\n",
              "<tbody>\n",
              "\t<tr><th scope=row>1</th><td>4</td><td>4</td></tr>\n",
              "\t<tr><th scope=row>2</th><td>6</td><td>4</td></tr>\n",
              "\t<tr><th scope=row>3</th><td>3</td><td>2</td></tr>\n",
              "\t<tr><th scope=row>4</th><td>1</td><td>3</td></tr>\n",
              "\t<tr><th scope=row>5</th><td>4</td><td>3</td></tr>\n",
              "\t<tr><th scope=row>6</th><td>4</td><td>2</td></tr>\n",
              "</tbody>\n",
              "</table>\n"
            ],
            "text/markdown": "\nA data.frame: 6 × 2\n\n| <!--/--> | Source_word_length &lt;int&gt; | Generated_word_length &lt;int&gt; |\n|---|---|---|\n| 1 | 4 | 4 |\n| 2 | 6 | 4 |\n| 3 | 3 | 2 |\n| 4 | 1 | 3 |\n| 5 | 4 | 3 |\n| 6 | 4 | 2 |\n\n",
            "text/latex": "A data.frame: 6 × 2\n\\begin{tabular}{r|ll}\n  & Source\\_word\\_length & Generated\\_word\\_length\\\\\n  & <int> & <int>\\\\\n\\hline\n\t1 & 4 & 4\\\\\n\t2 & 6 & 4\\\\\n\t3 & 3 & 2\\\\\n\t4 & 1 & 3\\\\\n\t5 & 4 & 3\\\\\n\t6 & 4 & 2\\\\\n\\end{tabular}\n",
            "text/plain": [
              "  Source_word_length Generated_word_length\n",
              "1 4                  4                    \n",
              "2 6                  4                    \n",
              "3 3                  2                    \n",
              "4 1                  3                    \n",
              "5 4                  3                    \n",
              "6 4                  2                    "
            ]
          },
          "metadata": {}
        }
      ]
    },
    {
      "cell_type": "code",
      "source": [
        "# t-검정 수행\n",
        "result <- t.test(data$Source_word_length, data$Generated_word_length)\n",
        "\n",
        "# 결과 출력\n",
        "print(result)"
      ],
      "metadata": {
        "colab": {
          "base_uri": "https://localhost:8080/"
        },
        "id": "wMF3ewsmbFDk",
        "outputId": "c9829ec1-1495-4e5f-ed00-d9c69e437e69"
      },
      "execution_count": 11,
      "outputs": [
        {
          "output_type": "stream",
          "name": "stdout",
          "text": [
            "\n",
            "\tWelch Two Sample t-test\n",
            "\n",
            "data:  data$Source_word_length and data$Generated_word_length\n",
            "t = 1.3392, df = 922.68, p-value = 0.1808\n",
            "alternative hypothesis: true difference in means is not equal to 0\n",
            "95 percent confidence interval:\n",
            " -0.09773452  0.51773452\n",
            "sample estimates:\n",
            "mean of x mean of y \n",
            "    4.068     3.858 \n",
            "\n"
          ]
        }
      ]
    },
    {
      "cell_type": "markdown",
      "source": [
        "어절 길이에 대한 통계적 유의성을 확인하기 위해서는 통계 분석 도구인 R(v.4.3.0)을 사용했다.\t Welch Two Sample t-검정 수행 결과는 P 값은 1.34로 유의 수준 0.05보다 높으므로 두 표본의 평균 사이에는 통계적으로 유의미한 차이가 있다고 할 수 없다. 같은 방법으로 음절 길이에 대해서 통계적 치이가 있는지 검토하였다."
      ],
      "metadata": {
        "id": "OLmLhXe4vrE6"
      }
    },
    {
      "cell_type": "code",
      "source": [
        "#음절 길이 비교\n",
        "system(\"gdown --id 1FTDrnCpGkJydRjStTLMyjsBJ1NqDwUdZ\")\n",
        "data2 = read.csv(\"Source_syllable_length0522.csv\")"
      ],
      "metadata": {
        "id": "O3WztveVhgqH"
      },
      "execution_count": 25,
      "outputs": []
    },
    {
      "cell_type": "code",
      "source": [
        "head(data2)"
      ],
      "metadata": {
        "colab": {
          "base_uri": "https://localhost:8080/",
          "height": 286
        },
        "id": "vDSOrBcvpQ0w",
        "outputId": "30d760e8-38c6-4d9f-b845-3bcaadbbb8e2"
      },
      "execution_count": 19,
      "outputs": [
        {
          "output_type": "display_data",
          "data": {
            "text/html": [
              "<table class=\"dataframe\">\n",
              "<caption>A data.frame: 6 × 2</caption>\n",
              "<thead>\n",
              "\t<tr><th></th><th scope=col>Source_syllable_length</th><th scope=col>Generated_syllable_length</th></tr>\n",
              "\t<tr><th></th><th scope=col>&lt;int&gt;</th><th scope=col>&lt;int&gt;</th></tr>\n",
              "</thead>\n",
              "<tbody>\n",
              "\t<tr><th scope=row>1</th><td>13</td><td>13</td></tr>\n",
              "\t<tr><th scope=row>2</th><td>18</td><td>12</td></tr>\n",
              "\t<tr><th scope=row>3</th><td> 9</td><td> 8</td></tr>\n",
              "\t<tr><th scope=row>4</th><td> 6</td><td>11</td></tr>\n",
              "\t<tr><th scope=row>5</th><td>14</td><td>12</td></tr>\n",
              "\t<tr><th scope=row>6</th><td>12</td><td>10</td></tr>\n",
              "</tbody>\n",
              "</table>\n"
            ],
            "text/markdown": "\nA data.frame: 6 × 2\n\n| <!--/--> | Source_syllable_length &lt;int&gt; | Generated_syllable_length &lt;int&gt; |\n|---|---|---|\n| 1 | 13 | 13 |\n| 2 | 18 | 12 |\n| 3 |  9 |  8 |\n| 4 |  6 | 11 |\n| 5 | 14 | 12 |\n| 6 | 12 | 10 |\n\n",
            "text/latex": "A data.frame: 6 × 2\n\\begin{tabular}{r|ll}\n  & Source\\_syllable\\_length & Generated\\_syllable\\_length\\\\\n  & <int> & <int>\\\\\n\\hline\n\t1 & 13 & 13\\\\\n\t2 & 18 & 12\\\\\n\t3 &  9 &  8\\\\\n\t4 &  6 & 11\\\\\n\t5 & 14 & 12\\\\\n\t6 & 12 & 10\\\\\n\\end{tabular}\n",
            "text/plain": [
              "  Source_syllable_length Generated_syllable_length\n",
              "1 13                     13                       \n",
              "2 18                     12                       \n",
              "3  9                      8                       \n",
              "4  6                     11                       \n",
              "5 14                     12                       \n",
              "6 12                     10                       "
            ]
          },
          "metadata": {}
        }
      ]
    },
    {
      "cell_type": "code",
      "source": [
        "# t-검정 수행\n",
        "result <- t.test(data2$Source_syllable_length, data2$Generated_syllable_length)\n",
        "\n",
        "# 결과 출력\n",
        "print(result)"
      ],
      "metadata": {
        "colab": {
          "base_uri": "https://localhost:8080/"
        },
        "id": "HKJSg3ttpQ5O",
        "outputId": "18bca012-716a-4dce-ef2e-ccfdd39e9a13"
      },
      "execution_count": 23,
      "outputs": [
        {
          "output_type": "stream",
          "name": "stdout",
          "text": [
            "\n",
            "\tWelch Two Sample t-test\n",
            "\n",
            "data:  data2$Source_syllable_length and data2$Generated_syllable_length\n",
            "t = 0.06743, df = 935.06, p-value = 0.9463\n",
            "alternative hypothesis: true difference in means is not equal to 0\n",
            "95 percent confidence interval:\n",
            " -1.067963  1.143963\n",
            "sample estimates:\n",
            "mean of x mean of y \n",
            "   14.620    14.582 \n",
            "\n"
          ]
        }
      ]
    },
    {
      "cell_type": "markdown",
      "source": [
        "음절 길이에 대한 Welch Two Sample 결과 P 값은 약 0.95로 유의 수준(p-값, 0.05)보다 높으므로 두 표본의 평균 사이에는 통계적으로 유의미한 차이가 있다고 할 수 없다."
      ],
      "metadata": {
        "id": "E_9YveEawHtZ"
      }
    }
  ]
}